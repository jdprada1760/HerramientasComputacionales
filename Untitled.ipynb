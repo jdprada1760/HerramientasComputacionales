{
 "cells": [
  {
   "cell_type": "code",
   "execution_count": 1,
   "metadata": {
    "collapsed": false
   },
   "outputs": [
    {
     "name": "stdout",
     "output_type": "stream",
     "text": [
      "Populating the interactive namespace from numpy and matplotlib\n"
     ]
    }
   ],
   "source": [
    "%pylab inline"
   ]
  },
  {
   "cell_type": "code",
   "execution_count": 41,
   "metadata": {
    "collapsed": true
   },
   "outputs": [],
   "source": [
    "# Integrates with trapezoid metho\n",
    "# vector of values of the function is passed\n",
    "def integrate(vals):\n",
    "    dx = 0.5/len(vals)\n",
    "    return dx*np.sum(vals[:-1]+vals[1:])\n",
    "\n",
    "# # Gets matrix of the respective linear system with Dirichlet bc\n",
    "def get_Matrix_D(h):\n",
    "    # n, the size of the set of control points\n",
    "    n = (int) (1.0/h)\n",
    "    # creates zero matrix (N-1)*N-1 due to the dimension of B-spline\n",
    "    m = np.zeros((n,n))\n",
    "    # fills matrix\n",
    "    # Matrix is pentadiagonal\n",
    "    for i in range(n):\n",
    "        for j in range(i-2,i+3):\n",
    "            if (j >= 0) and (j < n):\n",
    "                m[i,j] = integrate(get_int_Mat_D(i,j,h,100))\n",
    "                m[j,i] = integrate(get_int_Mat_D(i,j,h,100))\n",
    "    \n",
    "    return m\n",
    "\n",
    "# Gets the vector to integrate for matrix values\n",
    "def get_int_Mat_D(i,j,h,m = 100) :\n",
    "    x = np.linspace(0,1,m)\n",
    "    return (sp3(x,i,h)+sp3_prime(x,i,h))*sp3(x,j,h) + sp3_prime(x,i,h)*sp3_prime(x,j,h)\n",
    "\n",
    "# Gets vector of the respective linear system\n",
    "def get_vec_D(h):\n",
    "    # n, the size of the matrix\n",
    "    n = (int) (1.0/h - 1)\n",
    "    # creates zero matrix\n",
    "    v = np.zeros(n)\n",
    "    # Fills vector\n",
    "    for i in range(n):\n",
    "        # Position of vector v\n",
    "        v[i] = integrate(get_int_free(i,h,100))\n",
    "    return v\n",
    "\n",
    "# Gets the vector to integrate for non homogeneous vector of the linear system\n",
    "def get_int_free(i,h,m = 100) :\n",
    "    x = np.linspace(0,1,m)\n",
    "    return ((x-1)*np.exp(x) - (x+1))*np.exp(1)*(sp3(x,i,h))\n",
    "\n",
    "# Defines the spline of order 3 and index i\n",
    "def sp3(x,i,h):\n",
    "\n",
    "    # transformation for i\n",
    "    x = 2*(x/(h) -i-1)\n",
    "    # ans = 0 by default\n",
    "    ans = 0\n",
    "    if( (-2 >= x) or (x >= 1)):\n",
    "        return 0\n",
    "    if( (-2 <= x) and (x <= -1)):\n",
    "        ans  = (0.25)*((2+x)**3)\n",
    "    elif( (-1 <= x) and (x <= 0)):\n",
    "        ans  = (0.25)*((2+x)**3 - 4*(1+x)**3)\n",
    "    elif( (0 <= x) and (x <= 1)):\n",
    "        ans  = (0.25)*((2-x)**3 - 4*(1-x)**3)\n",
    "    elif( (1 <= x) and (x <= 2)):\n",
    "        ans  = (0.25)*((2-x)**3)\n",
    "    return ans\n",
    "\n",
    "# Defines the spline of order 3 and index i\n",
    "def sp3_prime(x,i,h):\n",
    "    # transformation for i\n",
    "    x = 2*(x/h -i-1)\n",
    "    const = 2.0/h\n",
    "    # ans = 0 by default\n",
    "    ans = 0\n",
    "    if( (-2 >= x) or (x >= 1)):\n",
    "        return 0\n",
    "    if( (-2 <= x) and (x <= -1)):\n",
    "        ans  = const*(0.75)*((2+x)**2)\n",
    "    elif( (-1 <= x) and (x <= 0)):\n",
    "        ans  = const*(0.75)*((2+x)**2 - 4*(1+x)**2)\n",
    "    elif( (0 <= x) and (x <= 1)):\n",
    "        ans  = -const*(0.75)*((2-x)**2 - 4*(1-x)**2)\n",
    "    elif( (1 <= x) and (x <= 2)):\n",
    "        ans  = -const*(0.75)*((2-x)**2)\n",
    "    return ans\n",
    "\n",
    "# Vectorizes functions\n",
    "sp3 = np.vectorize(sp3,otypes=[np.float32])\n",
    "sp3_prime = np.vectorize(sp3_prime,otypes=[np.float32])\n"
   ]
  },
  {
   "cell_type": "code",
   "execution_count": null,
   "metadata": {
    "collapsed": false
   },
   "outputs": [],
   "source": []
  },
  {
   "cell_type": "code",
   "execution_count": null,
   "metadata": {
    "collapsed": false
   },
   "outputs": [],
   "source": []
  },
  {
   "cell_type": "code",
   "execution_count": null,
   "metadata": {
    "collapsed": true
   },
   "outputs": [],
   "source": []
  }
 ],
 "metadata": {
  "kernelspec": {
   "display_name": "Python 3",
   "language": "python",
   "name": "python3"
  },
  "language_info": {
   "codemirror_mode": {
    "name": "ipython",
    "version": 3
   },
   "file_extension": ".py",
   "mimetype": "text/x-python",
   "name": "python",
   "nbconvert_exporter": "python",
   "pygments_lexer": "ipython3",
   "version": "3.5.2"
  }
 },
 "nbformat": 4,
 "nbformat_minor": 2
}
